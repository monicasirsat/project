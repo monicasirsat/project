{
 "cells": [
  {
   "cell_type": "code",
   "execution_count": 1,
   "metadata": {},
   "outputs": [],
   "source": [
    "import os\n",
    "import random\n",
    "import numpy as np\n",
    "import pandas as pd \n",
    "import matplotlib.pyplot as plt\n",
    "from IPython.display import Image\n",
    "from tensorflow.keras.utils import to_categorical\n",
    "from sklearn.model_selection import train_test_split\n",
    "from tensorflow.keras import backend as K\n",
    "from tensorflow.keras.layers import Dense, Activation\n",
    "from tensorflow.keras.optimizers import Adam\n",
    "from tensorflow.keras.metrics import categorical_crossentropy\n",
    "from tensorflow.keras.preprocessing.image import ImageDataGenerator, load_img\n",
    "from tensorflow.keras.preprocessing import image\n",
    "from tensorflow.keras.models import Model\n",
    "from tensorflow.keras.applications import imagenet_utils\n",
    "from tensorflow.keras.layers import Dense,GlobalAveragePooling2D\n",
    "from tensorflow.keras.applications.mobilenet import MobileNet\n",
    "from tensorflow.keras.applications.mobilenet import preprocess_input\n",
    "from tensorflow.keras.optimizers import Adam\n",
    "from tensorflow.keras.callbacks import EarlyStopping, ReduceLROnPlateau\n",
    "from tensorflow.keras.models import load_model"
   ]
  },
  {
   "cell_type": "code",
   "execution_count": 2,
   "metadata": {
    "id": "AE82e8dnDb0M"
   },
   "outputs": [],
   "source": [
    "FAST_RUN = False\n",
    "IMAGE_WIDTH=224\n",
    "IMAGE_HEIGHT=224\n",
    "IMAGE_SIZE=(IMAGE_WIDTH, IMAGE_HEIGHT)\n",
    "IMAGE_CHANNELS=3"
   ]
  },
  {
   "cell_type": "code",
   "execution_count": 3,
   "metadata": {
    "id": "f9gJdplCEytf"
   },
   "outputs": [],
   "source": [
    "filenames = os.listdir(r\"D:/project1/dataset/train/\")\n",
    "labels = []\n",
    "\n",
    "for filename in filenames:\n",
    "    label = filename.split(' ')[0]\n",
    "    if label == 'good':\n",
    "        labels.append(0)\n",
    "    else:\n",
    "        labels.append(1)\n",
    "\n",
    "df = pd.DataFrame({\n",
    "    'filename': filenames,\n",
    "    'label': labels\n",
    "})"
   ]
  },
  {
   "cell_type": "code",
   "execution_count": 4,
   "metadata": {
    "colab": {
     "base_uri": "https://localhost:8080/",
     "height": 423
    },
    "id": "8BdcK8l4f1Cn",
    "outputId": "069b86b3-d41c-4adf-cfbb-40c624671fe5"
   },
   "outputs": [
    {
     "data": {
      "text/html": [
       "<div>\n",
       "<style scoped>\n",
       "    .dataframe tbody tr th:only-of-type {\n",
       "        vertical-align: middle;\n",
       "    }\n",
       "\n",
       "    .dataframe tbody tr th {\n",
       "        vertical-align: top;\n",
       "    }\n",
       "\n",
       "    .dataframe thead th {\n",
       "        text-align: right;\n",
       "    }\n",
       "</style>\n",
       "<table border=\"1\" class=\"dataframe\">\n",
       "  <thead>\n",
       "    <tr style=\"text-align: right;\">\n",
       "      <th></th>\n",
       "      <th>filename</th>\n",
       "      <th>label</th>\n",
       "    </tr>\n",
       "  </thead>\n",
       "  <tbody>\n",
       "    <tr>\n",
       "      <th>0</th>\n",
       "      <td>bad (1)k.jpeg</td>\n",
       "      <td>1</td>\n",
       "    </tr>\n",
       "    <tr>\n",
       "      <th>1</th>\n",
       "      <td>bad (10)k.jpeg</td>\n",
       "      <td>1</td>\n",
       "    </tr>\n",
       "    <tr>\n",
       "      <th>2</th>\n",
       "      <td>bad (100)k.jpeg</td>\n",
       "      <td>1</td>\n",
       "    </tr>\n",
       "    <tr>\n",
       "      <th>3</th>\n",
       "      <td>bad (101)k.jpeg</td>\n",
       "      <td>1</td>\n",
       "    </tr>\n",
       "    <tr>\n",
       "      <th>4</th>\n",
       "      <td>bad (102)k.jpeg</td>\n",
       "      <td>1</td>\n",
       "    </tr>\n",
       "    <tr>\n",
       "      <th>...</th>\n",
       "      <td>...</td>\n",
       "      <td>...</td>\n",
       "    </tr>\n",
       "    <tr>\n",
       "      <th>995</th>\n",
       "      <td>good (522)k.jpeg</td>\n",
       "      <td>0</td>\n",
       "    </tr>\n",
       "    <tr>\n",
       "      <th>996</th>\n",
       "      <td>good (523)k.jpeg</td>\n",
       "      <td>0</td>\n",
       "    </tr>\n",
       "    <tr>\n",
       "      <th>997</th>\n",
       "      <td>good (524)k.jpeg</td>\n",
       "      <td>0</td>\n",
       "    </tr>\n",
       "    <tr>\n",
       "      <th>998</th>\n",
       "      <td>good (525)k.jpeg</td>\n",
       "      <td>0</td>\n",
       "    </tr>\n",
       "    <tr>\n",
       "      <th>999</th>\n",
       "      <td>good (526)k.jpeg</td>\n",
       "      <td>0</td>\n",
       "    </tr>\n",
       "  </tbody>\n",
       "</table>\n",
       "<p>1000 rows × 2 columns</p>\n",
       "</div>"
      ],
      "text/plain": [
       "             filename  label\n",
       "0       bad (1)k.jpeg      1\n",
       "1      bad (10)k.jpeg      1\n",
       "2     bad (100)k.jpeg      1\n",
       "3     bad (101)k.jpeg      1\n",
       "4     bad (102)k.jpeg      1\n",
       "..                ...    ...\n",
       "995  good (522)k.jpeg      0\n",
       "996  good (523)k.jpeg      0\n",
       "997  good (524)k.jpeg      0\n",
       "998  good (525)k.jpeg      0\n",
       "999  good (526)k.jpeg      0\n",
       "\n",
       "[1000 rows x 2 columns]"
      ]
     },
     "execution_count": 4,
     "metadata": {},
     "output_type": "execute_result"
    }
   ],
   "source": [
    "df.head(1000)"
   ]
  },
  {
   "cell_type": "code",
   "execution_count": 5,
   "metadata": {
    "colab": {
     "base_uri": "https://localhost:8080/",
     "height": 279
    },
    "id": "t_x62zIMheRp",
    "outputId": "ed859d8c-9cd3-44af-fcb5-0c44bb6de850"
   },
   "outputs": [
    {
     "data": {
      "text/plain": [
       "<AxesSubplot:>"
      ]
     },
     "execution_count": 5,
     "metadata": {},
     "output_type": "execute_result"
    },
    {
     "data": {
      "image/png": "[encoded data removed]",
      "text/plain": [
       "<Figure size 432x288 with 1 Axes>"
      ]
     },
     "metadata": {
      "needs_background": "light"
     },
     "output_type": "display_data"
    }
   ],
   "source": [
    "df['label'].value_counts().plot.bar()"
   ]
  },
  {
   "cell_type": "code",
   "execution_count": 6,
   "metadata": {
    "colab": {
     "base_uri": "https://localhost:8080/",
     "height": 287
    },
    "id": "Ns7vxMBR3EGZ",
    "outputId": "972ee763-9b34-4f4e-f964-dc1499b7fcdc"
   },
   "outputs": [
    {
     "data": {
      "text/plain": [
       "<matplotlib.image.AxesImage at 0x215fb039430>"
      ]
     },
     "execution_count": 6,
     "metadata": {},
     "output_type": "execute_result"
    },
    {
     "data": {
      "image/png": "[encoded data removed]",
      "text/plain": [
       "<Figure size 432x288 with 1 Axes>"
      ]
     },
     "metadata": {
      "needs_background": "light"
     },
     "output_type": "display_data"
    }
   ],
   "source": [
    "sample = random.choice(filenames)\n",
    "image = load_img(r\"D:/project1/dataset/train/\"+sample)\n",
    "plt.imshow(image)"
   ]
  },
  {
   "cell_type": "code",
   "execution_count": 7,
   "metadata": {
    "colab": {
     "base_uri": "https://localhost:8080/"
    },
    "id": "Mg0TZC5P3LtY",
    "outputId": "6a6883ca-0ce9-4743-c967-ed3cdf682897"
   },
   "outputs": [
    {
     "name": "stdout",
     "output_type": "stream",
     "text": [
      "WARNING:tensorflow:`input_shape` is undefined or non-square, or `rows` is not in [128, 160, 192, 224]. Weights for input shape (224, 224) will be loaded as the default.\n"
     ]
    }
   ],
   "source": [
    "base_model=MobileNet(weights='imagenet',include_top=False)  #imports the mobilenet model and discards the last 1000 neuron layer.\n",
    "\n",
    "x=base_model.output\n",
    "x=GlobalAveragePooling2D()(x)\n",
    "x=Dense(1024,activation='relu')(x)                          #we add dense layers so that the model can learn more complex functions and classify for better results.\n",
    "x=Dense(1024,activation='relu')(x)                          #dense layer 2\n",
    "x=Dense(512,activation='relu')(x)                           #dense layer 3\n",
    "preds=Dense(2,activation='softmax')(x)                      #final layer with softmax activation"
   ]
  },
  {
   "cell_type": "code",
   "execution_count": 8,
   "metadata": {
    "id": "B1z5yY2s3bJS"
   },
   "outputs": [],
   "source": [
    "model=Model(inputs=base_model.input,outputs=preds)"
   ]
  },
  {
   "cell_type": "code",
   "execution_count": 9,
   "metadata": {
    "id": "Hu4gNbSSBAJN"
   },
   "outputs": [],
   "source": [
    "model.compile(optimizer='Adam',loss='categorical_crossentropy',metrics=['accuracy']) "
   ]
  },
  {
   "cell_type": "code",
   "execution_count": 10,
   "metadata": {
    "id": "7rBVi0Ar3bZG"
   },
   "outputs": [],
   "source": [
    "for layer in model.layers[:20]:\n",
    "    layer.trainable=False\n",
    "for layer in model.layers[20:]:\n",
    "    layer.trainable=True"
   ]
  },
  {
   "cell_type": "code",
   "execution_count": 11,
   "metadata": {
    "id": "7d7LsgGE3bhM"
   },
   "outputs": [],
   "source": [
    "earlystop = EarlyStopping(patience=10)"
   ]
  },
  {
   "cell_type": "code",
   "execution_count": 12,
   "metadata": {
    "id": "zpvyCY3M3bkt"
   },
   "outputs": [],
   "source": [
    "learning_rate_reduction = ReduceLROnPlateau(monitor='val_accuracy', \n",
    "                                            patience=2, \n",
    "                                            verbose=1, \n",
    "                                            factor=0.5, \n",
    "                                            min_lr=0.00001)"
   ]
  },
  {
   "cell_type": "code",
   "execution_count": 13,
   "metadata": {
    "id": "FqHNiomu3by8"
   },
   "outputs": [],
   "source": [
    "callbacks = [earlystop, learning_rate_reduction]"
   ]
  },
  {
   "cell_type": "code",
   "execution_count": 14,
   "metadata": {
    "id": "861WI_Z97QPS"
   },
   "outputs": [],
   "source": [
    "df[\"label\"] = df[\"label\"].replace({0: 'Good', 1: 'Bad'}) "
   ]
  },
  {
   "cell_type": "code",
   "execution_count": 15,
   "metadata": {
    "id": "PB3nvr_W7Tyk"
   },
   "outputs": [],
   "source": [
    "train_df, validate_df = train_test_split(df, test_size=0.20, random_state=42)\n",
    "train_df = train_df.reset_index(drop=True)\n",
    "validate_df = validate_df.reset_index(drop=True)"
   ]
  },
  {
   "cell_type": "code",
   "execution_count": 16,
   "metadata": {
    "colab": {
     "base_uri": "https://localhost:8080/",
     "height": 299
    },
    "id": "f7OVLsq67T1x",
    "outputId": "f142c6d4-1d6c-4218-d973-4c078f0b7474"
   },
   "outputs": [
    {
     "data": {
      "text/plain": [
       "<AxesSubplot:>"
      ]
     },
     "execution_count": 16,
     "metadata": {},
     "output_type": "execute_result"
    },
    {
     "data": {
      "image/png": "[encoded data removed]",
      "text/plain": [
       "<Figure size 432x288 with 1 Axes>"
      ]
     },
     "metadata": {
      "needs_background": "light"
     },
     "output_type": "display_data"
    }
   ],
   "source": [
    "train_df['label'].value_counts().plot.bar()"
   ]
  },
  {
   "cell_type": "code",
   "execution_count": 17,
   "metadata": {
    "colab": {
     "base_uri": "https://localhost:8080/",
     "height": 299
    },
    "id": "D7Vml7Rm7T6H",
    "outputId": "0e4af99b-cf4f-41d5-d79e-120d40e466a5"
   },
   "outputs": [
    {
     "data": {
      "text/plain": [
       "<AxesSubplot:>"
      ]
     },
     "execution_count": 17,
     "metadata": {},
     "output_type": "execute_result"
    },
    {
     "data": {
      "image/png": "[encoded data removed]",
      "text/plain": [
       "<Figure size 432x288 with 1 Axes>"
      ]
     },
     "metadata": {
      "needs_background": "light"
     },
     "output_type": "display_data"
    }
   ],
   "source": [
    "validate_df['label'].value_counts().plot.bar()"
   ]
  },
  {
   "cell_type": "code",
   "execution_count": 18,
   "metadata": {
    "id": "zuKaWQku7T9l"
   },
   "outputs": [],
   "source": [
    "total_train = train_df.shape[0]\n",
    "total_validate = validate_df.shape[0]\n",
    "batch_size=15"
   ]
  },
  {
   "cell_type": "code",
   "execution_count": 19,
   "metadata": {
    "colab": {
     "base_uri": "https://localhost:8080/"
    },
    "id": "Pog-x9fq7UBA",
    "outputId": "42a8daad-3c86-47e7-be54-1c2e47f9f35f"
   },
   "outputs": [
    {
     "name": "stdout",
     "output_type": "stream",
     "text": [
      "Found 876 validated image filenames belonging to 2 classes.\n"
     ]
    }
   ],
   "source": [
    "train_datagen = ImageDataGenerator(\n",
    "    rotation_range=15,\n",
    "    rescale=1./255,\n",
    "    shear_range=0.1,\n",
    "    zoom_range=0.2,\n",
    "    horizontal_flip=True,\n",
    "    width_shift_range=0.1,\n",
    "    height_shift_range=0.1\n",
    ")\n",
    "\n",
    "train_generator = train_datagen.flow_from_dataframe(\n",
    "    train_df, \n",
    "    r\"D:/project1/dataset/train\", \n",
    "    x_col='filename',\n",
    "    y_col='label',\n",
    "    target_size=IMAGE_SIZE,\n",
    "    class_mode='categorical',\n",
    "    batch_size=batch_size\n",
    ")"
   ]
  },
  {
   "cell_type": "code",
   "execution_count": 20,
   "metadata": {
    "colab": {
     "base_uri": "https://localhost:8080/"
    },
    "id": "LTxZL4207UD2",
    "outputId": "e88e22cd-e1d2-4bc8-9188-4a4e9c9b287d"
   },
   "outputs": [
    {
     "name": "stdout",
     "output_type": "stream",
     "text": [
      "Found 219 validated image filenames belonging to 2 classes.\n"
     ]
    }
   ],
   "source": [
    "validation_datagen = ImageDataGenerator(rescale=1./255)\n",
    "validation_generator = validation_datagen.flow_from_dataframe(\n",
    "    validate_df, \n",
    "    r\"D:/project1/dataset/train\", \n",
    "    x_col='filename',\n",
    "    y_col='label',\n",
    "    target_size=IMAGE_SIZE,\n",
    "    class_mode='categorical',\n",
    "    batch_size=batch_size\n",
    ")    "
   ]
  },
  {
   "cell_type": "code",
   "execution_count": 21,
   "metadata": {
    "colab": {
     "base_uri": "https://localhost:8080/"
    },
    "id": "GNrkL_EC7UHe",
    "outputId": "752848d2-9ad4-44ef-869d-c136daec153e"
   },
   "outputs": [
    {
     "name": "stderr",
     "output_type": "stream",
     "text": [
      "C:\\Users\\HP\\AppData\\Local\\Temp\\ipykernel_5452\\2960438613.py:2: UserWarning: `Model.fit_generator` is deprecated and will be removed in a future version. Please use `Model.fit`, which supports generators.\n",
      "  history = model.fit_generator(\n"
     ]
    },
    {
     "name": "stdout",
     "output_type": "stream",
     "text": [
      "Epoch 1/20\n",
      "58/58 [==============================] - 185s 3s/step - loss: 0.6095 - accuracy: 0.7758 - val_loss: 3.2233 - val_accuracy: 0.5333 - lr: 0.0010\n",
      "Epoch 2/20\n",
      "58/58 [==============================] - 176s 3s/step - loss: 0.3018 - accuracy: 0.8990 - val_loss: 0.3904 - val_accuracy: 0.8857 - lr: 0.0010\n",
      "Epoch 3/20\n",
      "58/58 [==============================] - 158s 3s/step - loss: 0.2561 - accuracy: 0.9187 - val_loss: 0.2571 - val_accuracy: 0.9476 - lr: 0.0010\n",
      "Epoch 4/20\n",
      "58/58 [==============================] - 151s 3s/step - loss: 0.1986 - accuracy: 0.9350 - val_loss: 0.1522 - val_accuracy: 0.9524 - lr: 0.0010\n",
      "Epoch 5/20\n",
      "58/58 [==============================] - 153s 3s/step - loss: 0.1970 - accuracy: 0.9315 - val_loss: 0.0840 - val_accuracy: 0.9714 - lr: 0.0010\n",
      "Epoch 6/20\n",
      "58/58 [==============================] - 153s 3s/step - loss: 0.1357 - accuracy: 0.9512 - val_loss: 0.1151 - val_accuracy: 0.9619 - lr: 0.0010\n",
      "Epoch 7/20\n",
      "58/58 [==============================] - ETA: 0s - loss: 0.1164 - accuracy: 0.9617\n",
      "Epoch 7: ReduceLROnPlateau reducing learning rate to 0.0005000000237487257.\n",
      "58/58 [==============================] - 167s 3s/step - loss: 0.1164 - accuracy: 0.9617 - val_loss: 0.1477 - val_accuracy: 0.9667 - lr: 0.0010\n",
      "Epoch 8/20\n",
      "58/58 [==============================] - 168s 3s/step - loss: 0.0967 - accuracy: 0.9640 - val_loss: 0.0782 - val_accuracy: 0.9810 - lr: 5.0000e-04\n",
      "Epoch 9/20\n",
      "58/58 [==============================] - 161s 3s/step - loss: 0.0777 - accuracy: 0.9768 - val_loss: 0.0598 - val_accuracy: 0.9810 - lr: 5.0000e-04\n",
      "Epoch 10/20\n",
      "58/58 [==============================] - ETA: 0s - loss: 0.0647 - accuracy: 0.9791\n",
      "Epoch 10: ReduceLROnPlateau reducing learning rate to 0.0002500000118743628.\n",
      "58/58 [==============================] - 161s 3s/step - loss: 0.0647 - accuracy: 0.9791 - val_loss: 0.0523 - val_accuracy: 0.9810 - lr: 5.0000e-04\n",
      "Epoch 11/20\n",
      "58/58 [==============================] - 153s 3s/step - loss: 0.0551 - accuracy: 0.9826 - val_loss: 0.0580 - val_accuracy: 0.9810 - lr: 2.5000e-04\n",
      "Epoch 12/20\n",
      "58/58 [==============================] - 154s 3s/step - loss: 0.0403 - accuracy: 0.9872 - val_loss: 0.0464 - val_accuracy: 0.9857 - lr: 2.5000e-04\n",
      "Epoch 13/20\n",
      "58/58 [==============================] - 156s 3s/step - loss: 0.0584 - accuracy: 0.9791 - val_loss: 0.0755 - val_accuracy: 0.9571 - lr: 2.5000e-04\n",
      "Epoch 14/20\n",
      "58/58 [==============================] - 156s 3s/step - loss: 0.0387 - accuracy: 0.9872 - val_loss: 0.0292 - val_accuracy: 0.9952 - lr: 2.5000e-04\n",
      "Epoch 15/20\n",
      "58/58 [==============================] - 156s 3s/step - loss: 0.0617 - accuracy: 0.9816 - val_loss: 0.0523 - val_accuracy: 0.9857 - lr: 2.5000e-04\n",
      "Epoch 16/20\n",
      "58/58 [==============================] - ETA: 0s - loss: 0.0328 - accuracy: 0.9895\n",
      "Epoch 16: ReduceLROnPlateau reducing learning rate to 0.0001250000059371814.\n",
      "58/58 [==============================] - 153s 3s/step - loss: 0.0328 - accuracy: 0.9895 - val_loss: 0.0374 - val_accuracy: 0.9952 - lr: 2.5000e-04\n",
      "Epoch 17/20\n",
      "58/58 [==============================] - 200s 3s/step - loss: 0.0211 - accuracy: 0.9895 - val_loss: 0.0335 - val_accuracy: 0.9952 - lr: 1.2500e-04\n",
      "Epoch 18/20\n",
      "58/58 [==============================] - ETA: 0s - loss: 0.0428 - accuracy: 0.9930\n",
      "Epoch 18: ReduceLROnPlateau reducing learning rate to 6.25000029685907e-05.\n",
      "58/58 [==============================] - 160s 3s/step - loss: 0.0428 - accuracy: 0.9930 - val_loss: 0.0342 - val_accuracy: 0.9952 - lr: 1.2500e-04\n",
      "Epoch 19/20\n",
      "58/58 [==============================] - 155s 3s/step - loss: 0.0368 - accuracy: 0.9895 - val_loss: 0.0374 - val_accuracy: 0.9905 - lr: 6.2500e-05\n",
      "Epoch 20/20\n",
      "58/58 [==============================] - ETA: 0s - loss: 0.0353 - accuracy: 0.9895\n",
      "Epoch 20: ReduceLROnPlateau reducing learning rate to 3.125000148429535e-05.\n",
      "58/58 [==============================] - 154s 3s/step - loss: 0.0353 - accuracy: 0.9895 - val_loss: 0.0307 - val_accuracy: 0.9905 - lr: 6.2500e-05\n"
     ]
    }
   ],
   "source": [
    "epochs=3 if FAST_RUN else 20\n",
    "history = model.fit_generator(\n",
    "    train_generator, \n",
    "    epochs=epochs,\n",
    "    validation_data=validation_generator,\n",
    "    validation_steps=total_validate//batch_size,\n",
    "    steps_per_epoch=total_train//batch_size,\n",
    "    callbacks=callbacks\n",
    ")"
   ]
  },
  {
   "cell_type": "code",
   "execution_count": 22,
   "metadata": {
    "id": "vGQMdv7u7UKz"
   },
   "outputs": [],
   "source": [
    "model.save_weights(\"model.h5\")"
   ]
  },
  {
   "cell_type": "code",
   "execution_count": 23,
   "metadata": {
    "colab": {
     "base_uri": "https://localhost:8080/"
    },
    "id": "k_AeruuxBIUC",
    "outputId": "d6f2bd23-3a87-4e42-e508-439d4b8b273e"
   },
   "outputs": [],
   "source": [
    "model.save('D:/project1/model.h5')"
   ]
  },
  {
   "cell_type": "code",
   "execution_count": 24,
   "metadata": {
    "colab": {
     "base_uri": "https://localhost:8080/",
     "height": 873
    },
    "id": "2bVX_KGE7UPg",
    "outputId": "75fabab0-9b75-4184-adda-c6908db52273"
   },
   "outputs": [
    {
     "data": {
      "image/png": "[encoded data removed]",
      "text/plain": [
       "<Figure size 864x864 with 2 Axes>"
      ]
     },
     "metadata": {
      "needs_background": "light"
     },
     "output_type": "display_data"
    }
   ],
   "source": [
    "fig, (ax1, ax2) = plt.subplots(2, 1, figsize=(12, 12))\n",
    "ax1.plot(history.history['loss'], color='b', label=\"Training loss\")\n",
    "ax1.plot(history.history['val_loss'], color='r', label=\"validation loss\")\n",
    "ax1.set_xticks(np.arange(1, epochs, 1))\n",
    "ax1.set_yticks(np.arange(0, 1, 0.1))\n",
    "\n",
    "ax2.plot(history.history['accuracy'], color='b', label=\"Training accuracy\")\n",
    "ax2.plot(history.history['val_accuracy'], color='r',label=\"Validation accuracy\")\n",
    "ax2.set_xticks(np.arange(1, epochs, 1))\n",
    "\n",
    "legend = plt.legend(loc='best', shadow=True)\n",
    "plt.tight_layout()\n",
    "plt.show()"
   ]
  },
  {
   "cell_type": "code",
   "execution_count": 25,
   "metadata": {},
   "outputs": [
    {
     "name": "stdout",
     "output_type": "stream",
     "text": [
      "WARNING:tensorflow:Error in loading the saved optimizer state. As a result, your model is starting with a freshly initialized optimizer.\n"
     ]
    }
   ],
   "source": [
    "model = load_model(r'D:/project1/model.h5')"
   ]
  },
  {
   "cell_type": "code",
   "execution_count": 26,
   "metadata": {
    "colab": {
     "base_uri": "https://localhost:8080/"
    },
    "id": "sgkVHPvkrMRc",
    "outputId": "30a39ba9-365c-4aff-8bab-840cb727d34d"
   },
   "outputs": [
    {
     "name": "stdout",
     "output_type": "stream",
     "text": [
      "1/1 - 1s - 1s/epoch - 1s/step\n"
     ]
    },
    {
     "data": {
      "text/plain": [
       "array([[0.52128357, 0.47871643]], dtype=float32)"
      ]
     },
     "execution_count": 26,
     "metadata": {},
     "output_type": "execute_result"
    }
   ],
   "source": [
    "import cv2\n",
    "img = cv2.imread(r'D:/project1/dataset/test/bad (451)k.jpeg')\n",
    "img = img[...,::-1]                                                                 #give right image or else it will show error\n",
    "model.predict(img[None,...], batch_size=None, verbose=2, steps=1)"
   ]
  },
  {
   "cell_type": "code",
   "execution_count": 42,
   "metadata": {
    "id": "BSfKHD5brfeN"
   },
   "outputs": [],
   "source": [
    "test_filenames = os.listdir(r\"D:/project1/dataset/test\")\n",
    "test_df = pd.DataFrame({\n",
    "    'filename': test_filenames\n",
    "})\n",
    "nb_samples = test_df.shape[0]"
   ]
  },
  {
   "cell_type": "code",
   "execution_count": 29,
   "metadata": {
    "colab": {
     "base_uri": "https://localhost:8080/"
    },
    "id": "dRiNfBB7uN7M",
    "outputId": "b1ce2d92-168b-4bfd-b2e2-dc2e0a475846"
   },
   "outputs": [
    {
     "name": "stdout",
     "output_type": "stream",
     "text": [
      "Found 100 validated image filenames.\n"
     ]
    }
   ],
   "source": [
    "test_gen = ImageDataGenerator(rescale=1./255)\n",
    "test_generator = test_gen.flow_from_dataframe(\n",
    "    test_df, \n",
    "    r\"D:/project1/dataset/test\", \n",
    "    x_col='filename',\n",
    "    y_col=None,\n",
    "    class_mode=None,\n",
    "    target_size=IMAGE_SIZE,\n",
    "    batch_size=batch_size,\n",
    "    shuffle=False\n",
    ")"
   ]
  },
  {
   "cell_type": "code",
   "execution_count": 37,
   "metadata": {
    "id": "JapJgxeyuYZh"
   },
   "outputs": [],
   "source": [
    "predict = model.predict(test_generator, steps=np.ceil(nb_samples/batch_size))"
   ]
  },
  {
   "cell_type": "code",
   "execution_count": 38,
   "metadata": {
    "id": "vU9FgMeiuhkf"
   },
   "outputs": [],
   "source": [
    "test_df['label'] = np.argmax(predict, axis=-1)"
   ]
  },
  {
   "cell_type": "code",
   "execution_count": 39,
   "metadata": {
    "id": "pA8IyAaJuxRC"
   },
   "outputs": [],
   "source": [
    "label_map = dict((v,k) for k,v in train_generator.class_indices.items())\n",
    "test_df['label'] = test_df['label'].replace(label_map)"
   ]
  },
  {
   "cell_type": "code",
   "execution_count": 40,
   "metadata": {
    "colab": {
     "base_uri": "https://localhost:8080/",
     "height": 299
    },
    "id": "H5vLc5Fmu6FC",
    "outputId": "d4fb0969-44c8-4b7e-a1bb-881981393302"
   },
   "outputs": [
    {
     "data": {
      "text/plain": [
       "<AxesSubplot:>"
      ]
     },
     "execution_count": 40,
     "metadata": {},
     "output_type": "execute_result"
    },
    {
     "data": {
      "image/png": "[encoded data removed]",
      "text/plain": [
       "<Figure size 432x288 with 1 Axes>"
      ]
     },
     "metadata": {
      "needs_background": "light"
     },
     "output_type": "display_data"
    }
   ],
   "source": [
    "test_df['label'].value_counts().plot.bar()"
   ]
  },
  {
   "cell_type": "code",
   "execution_count": null,
   "metadata": {
    "colab": {
     "base_uri": "https://localhost:8080/",
     "height": 1000
    },
    "id": "Bh2_GcuCvJGa",
    "outputId": "77eaf6e7-cebd-4283-c52b-3b670217277e"
   },
   "outputs": [],
   "source": [
    "sample_test = test_df.head(18)\n",
    "sample_test.head()\n",
    "plt.figure(figsize=(12, 24))\n",
    "for index, row in sample_test.iterrows():\n",
    "    filename = row['filename']\n",
    "    category = row['label']\n",
    "    img = load_img(r\"D:/project1/dataset/test\"+filename, target_size=IMAGE_SIZE)\n",
    "    plt.subplot(6, 3, index+1)\n",
    "    plt.imshow(img)\n",
    "    plt.xlabel(filename + (' ') + 'Result-' + '(' + \"{}\".format(category) + ')' )\n",
    "plt.tight_layout()\n",
    "plt.show()"
   ]
  },
  {
   "cell_type": "code",
   "execution_count": null,
   "metadata": {
    "id": "ukLBMDouwEW_"
   },
   "outputs": [],
   "source": []
  }
 ],
 "metadata": {
  "colab": {
   "name": "Untitled10.ipynb",
   "provenance": []
  },
  "interpreter": {
   "hash": "cd6c33dc6e2a6562ea3616c3e631c6a09750a21bcb1ba9cedb2111fe73aca082"
  },
  "kernelspec": {
   "display_name": "ank",
   "language": "python",
   "name": "python3"
  },
  "language_info": {
   "codemirror_mode": {
    "name": "ipython",
    "version": 3
   },
   "file_extension": ".py",
   "mimetype": "text/x-python",
   "name": "python",
   "nbconvert_exporter": "python",
   "pygments_lexer": "ipython3",
   "version": "3.9.7"
  }
 },
 "nbformat": 4,
 "nbformat_minor": 1
}
